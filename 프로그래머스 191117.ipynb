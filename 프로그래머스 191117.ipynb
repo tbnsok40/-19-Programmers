{
 "cells": [
  {
   "cell_type": "code",
   "execution_count": 1,
   "metadata": {},
   "outputs": [
    {
     "data": {
      "text/plain": [
       "[2, 36, 1, 3]"
      ]
     },
     "execution_count": 1,
     "metadata": {},
     "output_type": "execute_result"
    }
   ],
   "source": [
    "def solution(arr, divisor):\n",
    "    answer = []\n",
    "    for i in range(len(arr)):\n",
    "        if arr[i] % divisor == 0:\n",
    "            answer.append(arr[i])\n",
    "            \n",
    "    if answer == []:\n",
    "        answer.append(-1)\n",
    "            \n",
    "    return answer\n",
    "\n",
    "solution([2,36,1,3], 1)"
   ]
  },
  {
   "cell_type": "code",
   "execution_count": 2,
   "metadata": {},
   "outputs": [
    {
     "data": {
      "text/plain": [
       "'sun'"
      ]
     },
     "execution_count": 2,
     "metadata": {},
     "output_type": "execute_result"
    }
   ],
   "source": [
    "def solution(a, b):\n",
    "    result = ''\n",
    "    if a == 1:\n",
    "        if b % 7 == 1:\n",
    "           result = 'fri'\n",
    "        elif b % 7 == 2:\n",
    "            result = 'sat'\n",
    "        elif b % 7 == 3:\n",
    "            result = 'sun'\n",
    "        elif b % 7 == 4:\n",
    "            result = 'mon'\n",
    "        elif b % 7 == 5:\n",
    "            result = 'tue'\n",
    "        elif b % 7 == 6:\n",
    "            result = 'wed'\n",
    "        elif b % 7 == 0:\n",
    "            result = 'thu'\n",
    "        \n",
    "    if a == 2:\n",
    "        if b % 7 == 1:\n",
    "           result = 'fri'\n",
    "        elif b % 7 == 2:\n",
    "            result = 'sat'\n",
    "        elif b % 7 == 3:\n",
    "            result = 'sun'\n",
    "        elif b % 7 == 4:\n",
    "            result = 'mon'\n",
    "        elif b % 7 == 5:\n",
    "            result = 'tue'\n",
    "        elif b % 7 == 6:\n",
    "            result = 'wed'\n",
    "        elif b % 7 == 0:\n",
    "            result = 'thu'\n",
    "        \n",
    "            \n",
    "    answer = result\n",
    "    return answer\n",
    "solution(1,3)"
   ]
  },
  {
   "cell_type": "code",
   "execution_count": 3,
   "metadata": {},
   "outputs": [
    {
     "ename": "NameError",
     "evalue": "name 'W' is not defined",
     "output_type": "error",
     "traceback": [
      "\u001b[1;31m---------------------------------------------------------------------------\u001b[0m",
      "\u001b[1;31mNameError\u001b[0m                                 Traceback (most recent call last)",
      "\u001b[1;32m<ipython-input-3-adf10c16d72c>\u001b[0m in \u001b[0;36m<module>\u001b[1;34m\u001b[0m\n\u001b[1;32m----> 1\u001b[1;33m \u001b[0mW\u001b[0m\u001b[1;33m\u001b[0m\u001b[1;33m\u001b[0m\u001b[0m\n\u001b[0m\u001b[0;32m      2\u001b[0m \u001b[0mjan\u001b[0m \u001b[1;33m=\u001b[0m \u001b[1;33m[\u001b[0m\u001b[1;33m]\u001b[0m\u001b[1;33m\u001b[0m\u001b[1;33m\u001b[0m\u001b[0m\n\u001b[0;32m      3\u001b[0m \u001b[0mjan\u001b[0m\u001b[1;33m.\u001b[0m\u001b[0mappend\u001b[0m\u001b[1;33m(\u001b[0m\u001b[0mWEEK\u001b[0m\u001b[1;33m)\u001b[0m\u001b[1;33m\u001b[0m\u001b[1;33m\u001b[0m\u001b[0m\n\u001b[0;32m      4\u001b[0m \u001b[0mjan\u001b[0m\u001b[1;33m[\u001b[0m\u001b[1;36m0\u001b[0m\u001b[1;33m]\u001b[0m\u001b[1;33m\u001b[0m\u001b[1;33m\u001b[0m\u001b[0m\n",
      "\u001b[1;31mNameError\u001b[0m: name 'W' is not defined"
     ]
    }
   ],
   "source": [
    "W\n",
    "jan = []\n",
    "jan.append(WEEK)\n",
    "jan[0]"
   ]
  },
  {
   "cell_type": "markdown",
   "metadata": {},
   "source": [
    "# 딕셔너리의 키 값은 중복될 수 없다 ★★★★★★★"
   ]
  },
  {
   "cell_type": "code",
   "execution_count": null,
   "metadata": {},
   "outputs": [],
   "source": [
    "def solution(strings, n):\n",
    "    li = {}\n",
    "    answer = []\n",
    "    for i in range(len(strings)):\n",
    "        words = strings[i]\n",
    "        key = words[n]\n",
    "        temp = key  #temp는 a,e,u값\n",
    "        key = words #key는 sun, bed값\n",
    "        li[temp] = key # 딕셔너리에 할당\n",
    "        \n",
    "        \n",
    "    listed = sorted(li) # 딕셔너리 정렬, a,e,u값만 정렬\n",
    "    \n",
    "    for words in listed:\n",
    "        answer.append(li[words])\n",
    "    \n",
    "    return answer\n",
    "#solution(['sun','bed','car'], 1)\n",
    "solution([\"abce\", \"abcd\", \"cdx\"],2)\n",
    "\n",
    "# 두번째 예시, c와c가 겹쳐서 하나가 사라져 버렸구나... 딕셔너리의 키 값은 중복되면 사라진다.\n",
    "# 그럼 딕셔너리로 풀면 안된다는 말.."
   ]
  },
  {
   "cell_type": "code",
   "execution_count": null,
   "metadata": {},
   "outputs": [],
   "source": [
    "def solution(strings, n):\n",
    "    answer = []\n",
    "\n",
    "    diction = {}\n",
    "    for i in range(len(strings)):\n",
    "        value = strings[i] #value = sun\n",
    "        key = value[n] #key는 a,e,u값\n",
    "        diction[value] = key\n",
    "        \n",
    "#     for k,v in diction.items():\n",
    "#         new_diction[v] = k\n",
    "#     new_diction = sorted(new_diction)\n",
    "\n",
    "    \n",
    "#     for i in range(len(diction)):\n",
    "#         answer.append(diction[i])\n",
    "\n",
    "    \n",
    "    \n",
    "#     for j in diction:\n",
    "#         answer.append(diction[j])\n",
    "#     answer.sort()\n",
    "#     for i in range(len(answer)):\n",
    "#         answer2.append(new_diction[answer[i]])\n",
    "\n",
    "\n",
    "    return diction\n",
    "solution([\"abce\", \"abcd\", \"cdx\"],2)\n",
    "#solution(['sun','bed','car'], 1)\n"
   ]
  },
  {
   "cell_type": "code",
   "execution_count": null,
   "metadata": {},
   "outputs": [],
   "source": [
    "dic2 = {'abce': 'c', 'abcd': 'c', 'cdx': 'x'}\n",
    "dic2[0]"
   ]
  },
  {
   "cell_type": "code",
   "execution_count": 7,
   "metadata": {},
   "outputs": [
    {
     "data": {
      "text/plain": [
       "['abcd', 'abce', 'cdx']"
      ]
     },
     "execution_count": 7,
     "metadata": {},
     "output_type": "execute_result"
    }
   ],
   "source": [
    "def solution(strings, n):\n",
    "    li = {}\n",
    "    li2 = {}\n",
    "    answer = []\n",
    "    temp2 = -1\n",
    "    for i in range(len(strings)):\n",
    "        key = strings[i] #key는 sun, bed값        \n",
    "        temp = key[n]  #temp는 a,e,u값\n",
    "\n",
    "        if temp not in li:\n",
    "            li[temp] = key # 딕셔너리에 할당\n",
    "        else: \n",
    "            temp2 = temp\n",
    "            li2[temp2] = key\n",
    "#             print(li2[temp2])\n",
    "    listed = sorted(li) # 딕셔너리 정렬, a,e,u값만 정렬\n",
    "        \n",
    "    for words in listed:\n",
    "        answer.append(li[words])\n",
    "        \n",
    "    if temp2 != -1:\n",
    "        answer.append(li2[temp2])\n",
    "        answer.sort()\n",
    "            \n",
    "    \n",
    "    return answer\n",
    "\n",
    "solution(['sun','bed','car'], 1)\n",
    "solution([\"abce\", \"abcd\", \"cdx\"],2)\n",
    "\n",
    "# 결국 풀었따 ㅠㅠㅠㅠ\n"
   ]
  },
  {
   "cell_type": "code",
   "execution_count": null,
   "metadata": {},
   "outputs": [],
   "source": []
  }
 ],
 "metadata": {
  "kernelspec": {
   "display_name": "Python 3",
   "language": "python",
   "name": "python3"
  },
  "language_info": {
   "codemirror_mode": {
    "name": "ipython",
    "version": 3
   },
   "file_extension": ".py",
   "mimetype": "text/x-python",
   "name": "python",
   "nbconvert_exporter": "python",
   "pygments_lexer": "ipython3",
   "version": "3.7.3"
  }
 },
 "nbformat": 4,
 "nbformat_minor": 2
}
