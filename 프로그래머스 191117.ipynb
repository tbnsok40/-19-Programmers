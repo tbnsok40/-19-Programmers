{
 "cells": [
  {
   "cell_type": "code",
   "execution_count": 2,
   "metadata": {},
   "outputs": [
    {
     "data": {
      "text/plain": [
       "[2, 36, 1, 3]"
      ]
     },
     "execution_count": 2,
     "metadata": {},
     "output_type": "execute_result"
    }
   ],
   "source": [
    "def solution(arr, divisor):\n",
    "    answer = []\n",
    "    for i in range(len(arr)):\n",
    "        if arr[i] % divisor == 0:\n",
    "            answer.append(arr[i])\n",
    "            \n",
    "    if answer == []:\n",
    "        answer.append(-1)\n",
    "            \n",
    "    return answer\n",
    "\n",
    "solution([2,36,1,3], 1)"
   ]
  },
  {
   "cell_type": "code",
   "execution_count": null,
   "metadata": {},
   "outputs": [],
   "source": [
    "def solution(a, b):\n",
    "    result = ''\n",
    "    if a == 1:\n",
    "        if b % 7 == 1:\n",
    "           result = 'fri'\n",
    "        elif b % 7 == 2:\n",
    "            result = 'sat'\n",
    "        elif b % 7 == 3:\n",
    "            result = 'sun'\n",
    "        elif b % 7 == 4:\n",
    "            result = 'mon'\n",
    "        elif b % 7 == 5:\n",
    "            result = 'tue'\n",
    "        elif b % 7 == 6:\n",
    "            result = 'wed'\n",
    "        elif b % 7 == 0:\n",
    "            result = 'thu'\n",
    "        \n",
    "    if a == 2:\n",
    "        if b % 7 == 1:\n",
    "           result = 'fri'\n",
    "        elif b % 7 == 2:\n",
    "            result = 'sat'\n",
    "        elif b % 7 == 3:\n",
    "            result = 'sun'\n",
    "        elif b % 7 == 4:\n",
    "            result = 'mon'\n",
    "        elif b % 7 == 5:\n",
    "            result = 'tue'\n",
    "        elif b % 7 == 6:\n",
    "            result = 'wed'\n",
    "        elif b % 7 == 0:\n",
    "            result = 'thu'\n",
    "        \n",
    "            \n",
    "    answer = result\n",
    "    return answer\n",
    "solution(1,3)"
   ]
  },
  {
   "cell_type": "code",
   "execution_count": null,
   "metadata": {},
   "outputs": [],
   "source": [
    "W\n",
    "jan = []\n",
    "jan.append(WEEK)\n",
    "jan[0]"
   ]
  },
  {
   "cell_type": "markdown",
   "metadata": {},
   "source": [
    "# 딕셔너리의 키 값은 중복될 수 없다 ★★★★★★★"
   ]
  },
  {
   "cell_type": "code",
   "execution_count": 8,
   "metadata": {},
   "outputs": [
    {
     "data": {
      "text/plain": [
       "{'c': 'abcd', 'x': 'cdx'}"
      ]
     },
     "execution_count": 8,
     "metadata": {},
     "output_type": "execute_result"
    }
   ],
   "source": [
    "def solution(strings, n):\n",
    "    li = {}\n",
    "    answer = []\n",
    "    for i in range(len(strings)):\n",
    "        words = strings[i]\n",
    "        key = words[n]\n",
    "        temp = key  #temp는 a,e,u값\n",
    "        key = words #key는 sun, bed값\n",
    "        li[temp] = key # 딕셔너리에 할당\n",
    "        \n",
    "    listed = sorted(li) # 딕셔너리 정렬, a,e,u값만 정렬\n",
    "    \n",
    "    for words in listed:\n",
    "        answer.append(li[words])\n",
    "    \n",
    "    return li\n",
    "# solution(['sun','bed','car'], 1)\n",
    "solution([\"abce\", \"abcd\", \"cdx\"],2)\n",
    "\n",
    "# 두번째 예시, c와c가 겹쳐서 하나가 사라져 버렸구나... 딕셔너리의 키 값은 중복되면 사라진다.\n",
    " "
   ]
  },
  {
   "cell_type": "code",
   "execution_count": null,
   "metadata": {},
   "outputs": [],
   "source": []
  },
  {
   "cell_type": "code",
   "execution_count": 3,
   "metadata": {},
   "outputs": [
    {
     "ename": "NameError",
     "evalue": "name 'jt' is not defined",
     "output_type": "error",
     "traceback": [
      "\u001b[1;31m---------------------------------------------------------------------------\u001b[0m",
      "\u001b[1;31mNameError\u001b[0m                                 Traceback (most recent call last)",
      "\u001b[1;32m<ipython-input-3-77bb524fe3e4>\u001b[0m in \u001b[0;36m<module>\u001b[1;34m\u001b[0m\n\u001b[1;32m----> 1\u001b[1;33m \u001b[0mjt\u001b[0m \u001b[1;33m-\u001b[0m\u001b[0ml\u001b[0m\u001b[1;33m\u001b[0m\u001b[1;33m\u001b[0m\u001b[0m\n\u001b[0m",
      "\u001b[1;31mNameError\u001b[0m: name 'jt' is not defined"
     ]
    }
   ],
   "source": []
  },
  {
   "cell_type": "code",
   "execution_count": null,
   "metadata": {},
   "outputs": [],
   "source": []
  }
 ],
 "metadata": {
  "kernelspec": {
   "display_name": "Python 3",
   "language": "python",
   "name": "python3"
  },
  "language_info": {
   "codemirror_mode": {
    "name": "ipython",
    "version": 3
   },
   "file_extension": ".py",
   "mimetype": "text/x-python",
   "name": "python",
   "nbconvert_exporter": "python",
   "pygments_lexer": "ipython3",
   "version": "3.7.3"
  }
 },
 "nbformat": 4,
 "nbformat_minor": 2
}
