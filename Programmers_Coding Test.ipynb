{
 "cells": [
  {
   "cell_type": "markdown",
   "metadata": {},
   "source": [
    "# 200121_[2020카카오공채] 문자열 압축\n",
    "\n",
    "## 문제 설명\n",
    "데이터 처리 전문가가 되고 싶은 어피치는 문자열을 압축하는 방법에 대해 공부를 하고 있습니다. 최근에 대량의 데이터 처리를 위한 간단한 비손실 압축 방법에 대해 공부를 하고 있는데, 문자열에서 같은 값이 연속해서 나타나는 것을 그 문자의 개수와 반복되는 값으로 표현하여 더 짧은 문자열로 줄여서 표현하는 알고리즘을 공부하고 있습니다.\n",
    "간단한 예로 aabbaccc의 경우 2a2ba3c(문자가 반복되지 않아 한번만 나타난 경우 1은 생략함)와 같이 표현할 수 있는데, 이러한 방식은 반복되는 문자가 적은 경우 압축률이 낮다는 단점이 있습니다. 예를 들면, abcabcdede와 같은 문자열은 전혀 압축되지 않습니다. 어피치는 이러한 단점을 해결하기 위해 문자열을 1개 이상의 단위로 잘라서 압축하여 더 짧은 문자열로 표현할 수 있는지 방법을 찾아보려고 합니다.\n",
    "\n",
    "예를 들어, ababcdcdababcdcd의 경우 문자를 1개 단위로 자르면 전혀 압축되지 않지만, 2개 단위로 잘라서 압축한다면 2ab2cd2ab2cd로 표현할 수 있습니다. 다른 방법으로 8개 단위로 잘라서 압축한다면 2ababcdcd로 표현할 수 있으며, 이때가 가장 짧게 압축하여 표현할 수 있는 방법입니다.\n",
    "\n",
    "다른 예로, abcabcdede와 같은 경우, 문자를 2개 단위로 잘라서 압축하면 abcabc2de가 되지만, 3개 단위로 자른다면 2abcdede가 되어 3개 단위가 가장 짧은 압축 방법이 됩니다. 이때 3개 단위로 자르고 마지막에 남는 문자열은 그대로 붙여주면 됩니다.\n",
    "\n",
    "압축할 문자열 s가 매개변수로 주어질 때, 위에 설명한 방법으로 1개 이상 단위로 문자열을 잘라 압축하여 표현한 문자열 중 가장 짧은 것의 길이를 return 하도록 solution 함수를 완성해주세요.\n",
    "\n",
    "제한사항\n",
    "s의 길이는 1 이상 1,000 이하입니다.\n",
    "s는 알파벳 소문자로만 이루어져 있습니다.\n"
   ]
  },
  {
   "cell_type": "code",
   "execution_count": 21,
   "metadata": {},
   "outputs": [],
   "source": [
    "def solution(s):\n",
    "    minimum = []\n",
    "    \n",
    "    if len(s) is 1:\n",
    "            minimum.append(s[0])\n",
    "            return 1\n",
    "        \n",
    "    for i in range(1,(len(s)//2)+1):\n",
    "        \n",
    "        \n",
    "        result = []\n",
    "        cut = i\n",
    "        for j in range(0,len(s)):\n",
    "            start = j*cut\n",
    "            end = start + cut\n",
    "\n",
    "#             if end > len(s):\n",
    "#                 break\n",
    "            result.append(s[start:end])\n",
    "        result.append('')\n",
    "\n",
    "        \n",
    "        sum = ''\n",
    "        answer = ''\n",
    "        count = 1\n",
    "        for k in range(len(result)-1):\n",
    "            \n",
    "            if result[k] == result[k+1]:\n",
    "                count += 1\n",
    "            else:\n",
    "                if count == 1:\n",
    "                    answer = result[k]\n",
    "                    sum += answer\n",
    "                    \n",
    "                else:\n",
    "                    answer = str(count) + result[k]\n",
    "                    sum += answer\n",
    "                    count = 1\n",
    "            \n",
    "        min2 = 1000\n",
    "        if len(sum) < min2:\n",
    "            min2 = len(sum)\n",
    "\n",
    "        minimum.append(min2)\n",
    "\n",
    "                \n",
    "            \n",
    "    return min(minimum) #answer이 문자열이면..? 리스트면 len으로 반환 가능\n",
    "\n",
    "#5번 케이스 오류 => becasue length of string is 1 !!!!\n"
   ]
  },
  {
   "cell_type": "markdown",
   "metadata": {},
   "source": [
    "# 완주하지 못한 선수\n",
    "###"
   ]
  },
  {
   "cell_type": "code",
   "execution_count": 40,
   "metadata": {},
   "outputs": [
    {
     "data": {
      "text/plain": [
       "'mislav'"
      ]
     },
     "execution_count": 40,
     "metadata": {},
     "output_type": "execute_result"
    }
   ],
   "source": [
    "def solution(participant, completion):\n",
    "    answer = ''\n",
    "    for i in range(len(completion)):\n",
    "        if completion[i] in participant:\n",
    "            participant.remove(completion[i])\n",
    "        \n",
    "    for j in range(len(participant)):\n",
    "        answer += participant[j]\n",
    "        \n",
    "    return answer\n",
    "\n",
    "\n",
    "# 문제는 풀었는데 효율성이 다 틀렸어.\n",
    "# O(n)---for문. 리스트 길이 10만이면 너무 길어져\n",
    "\n",
    "\n",
    "\n",
    "participant = [\"mislav\", \"stanko\",\"mislav\", \"ana\"]\n",
    "completion = [\"stanko\", \"ana\", \"mislav\"]\n",
    "\n",
    "solution(participant,completion)\n"
   ]
  },
  {
   "cell_type": "markdown",
   "metadata": {},
   "source": [
    "# 200123_완전탐색_모의고사\n",
    "## 문제 설명\n",
    "수포자는 수학을 포기한 사람의 준말입니다. 수포자 삼인방은 모의고사에 수학 문제를 전부 찍으려 합니다. 수포자는 1번 문제부터 마지막 문제까지 다음과 같이 찍습니다.\n",
    "\n",
    "1번 수포자가 찍는 방식: 1, 2, 3, 4, 5, 1, 2, 3, 4, 5, ...\n",
    "2번 수포자가 찍는 방식: 2, 1, 2, 3, 2, 4, 2, 5, 2, 1, 2, 3, 2, 4, 2, 5, ...\n",
    "3번 수포자가 찍는 방식: 3, 3, 1, 1, 2, 2, 4, 4, 5, 5, 3, 3, 1, 1, 2, 2, 4, 4, 5, 5, ...\n",
    "\n",
    "1번 문제부터 마지막 문제까지의 정답이 순서대로 들은 배열 answers가 주어졌을 때, 가장 많은 문제를 맞힌 사람이 누구인지 배열에 담아 return 하도록 solution 함수를 작성해주세요.\n",
    "\n",
    "제한 조건\n",
    "시험은 최대 10,000 문제로 구성되어있습니다.\n",
    "문제의 정답은 1, 2, 3, 4, 5중 하나입니다.\n",
    "가장 높은 점수를 받은 사람이 여럿일 경우, return하는 값을 오름차순 정렬해주세요.\n",
    "입출력 예\n",
    "answers\treturn\n",
    "[1,2,3,4,5]\t[1]\n",
    "[1,3,2,4,2]\t[1,2,3]\n",
    "입출력 예 설명\n",
    "입출력 예 #1\n",
    "\n",
    "수포자 1은 모든 문제를 맞혔습니다.\n",
    "수포자 2는 모든 문제를 틀렸습니다.\n",
    "수포자 3은 모든 문제를 틀렸습니다.\n",
    "따라서 가장 문제를 많이 맞힌 사람은 수포자 1입니다.\n",
    "\n",
    "입출력 예 #2\n",
    "\n",
    "모든 사람이 2문제씩을 맞췄습니다.\n",
    "\n",
    "## But my code is so complex, i need to refer to others clean codes"
   ]
  },
  {
   "cell_type": "code",
   "execution_count": 42,
   "metadata": {},
   "outputs": [
    {
     "data": {
      "text/plain": [
       "-794558565020425181"
      ]
     },
     "execution_count": 42,
     "metadata": {},
     "output_type": "execute_result"
    }
   ],
   "source": [
    "def solution(answers):  # answers 는 정답이 든 배열\n",
    "    result = [-1]\n",
    "    whatever = [[1,2,3,4,5],[2,1,2,3,2,4,2,5],[3,3,1,1,2,2,4,4,5,5]]\n",
    "    \n",
    "    for i in range(3):\n",
    "        count = 0\n",
    "        whatever[i] = whatever[i] * ((len(answers) // len(whatever[i])) + 1)\n",
    "        \n",
    "        for j in range(len(answers)):\n",
    "            if whatever[i][j] == answers[j]:\n",
    "                count += 1\n",
    "        result.append(count)\n",
    "        \n",
    "#     print('맞춘개수:',result)\n",
    "    \n",
    "    answer = []\n",
    "    \n",
    "    maxx = max(result)\n",
    "#     print('maxx:',maxx)\n",
    "\n",
    "    for k in range(len(result)):\n",
    "        if maxx == result[k]:\n",
    "            answer.append(k)\n",
    "#             print(answer)\n",
    "            \n",
    "            \n",
    "    \n",
    "    return answer\n",
    "\n",
    "answers = [1,4,2,2,2,3,4,1]\n",
    "solution(answers)\n",
    "\n"
   ]
  },
  {
   "cell_type": "markdown",
   "metadata": {},
   "source": [
    "## 고수의 풀이-enumerate() 함수"
   ]
  },
  {
   "cell_type": "code",
   "execution_count": 45,
   "metadata": {},
   "outputs": [],
   "source": [
    "def solution(answers):\n",
    "    pattern1 = [1,2,3,4,5]\n",
    "    pattern2 = [2,1,2,3,2,4,2,5]\n",
    "    pattern3 = [3,3,1,1,2,2,4,4,5,5]\n",
    "    score = [0, 0, 0]\n",
    "    result = []\n",
    "\n",
    "    for idx, answer in enumerate(answers):\n",
    "        if answer == pattern1[idx%len(pattern1)]:\n",
    "            score[0] += 1\n",
    "        if answer == pattern2[idx%len(pattern2)]:\n",
    "            score[1] += 1\n",
    "        if answer == pattern3[idx%len(pattern3)]:\n",
    "            score[2] += 1\n",
    "\n",
    "    for idx, s in enumerate(score):\n",
    "        if s == max(score):\n",
    "            result.append(idx+1)\n",
    "\n",
    "    return result"
   ]
  },
  {
   "cell_type": "code",
   "execution_count": null,
   "metadata": {},
   "outputs": [],
   "source": []
  }
 ],
 "metadata": {
  "kernelspec": {
   "display_name": "Python 3",
   "language": "python",
   "name": "python3"
  },
  "language_info": {
   "codemirror_mode": {
    "name": "ipython",
    "version": 3
   },
   "file_extension": ".py",
   "mimetype": "text/x-python",
   "name": "python",
   "nbconvert_exporter": "python",
   "pygments_lexer": "ipython3",
   "version": "3.7.3"
  }
 },
 "nbformat": 4,
 "nbformat_minor": 2
}
